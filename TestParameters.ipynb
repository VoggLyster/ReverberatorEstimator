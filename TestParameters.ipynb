{
 "cells": [
  {
   "cell_type": "code",
   "execution_count": 1,
   "id": "14c676e0",
   "metadata": {},
   "outputs": [
    {
     "name": "stderr",
     "output_type": "stream",
     "text": [
      "No protocol specified\n",
      "No protocol specified\n",
      "No protocol specified\n",
      "No protocol specified\n"
     ]
    },
    {
     "name": "stdout",
     "output_type": "stream",
     "text": [
      "dict_keys(['b0_gain', 'b1_gain', 'b2_gain', 'b3_gain', 'b4_gain', 'b5_gain', 'b6_gain', 'b7_gain', 'b8_gain', 'b9_gain', 'b10_gain', 'b11_gain', 'b12_gain', 'b13_gain', 'b14_gain', 'b15_gain', 'c0_gain', 'c1_gain', 'c2_gain', 'c3_gain', 'c4_gain', 'c5_gain', 'c6_gain', 'c7_gain', 'c8_gain', 'c9_gain', 'c10_gain', 'c11_gain', 'c12_gain', 'c13_gain', 'c14_gain', 'c15_gain', 'filter0_coeff0', 'filter0_coeff1', 'filter0_coeff2', 'filter0_coeff3', 'filter0_coeff4', 'filter1_coeff0', 'filter1_coeff1', 'filter1_coeff2', 'filter1_coeff3', 'filter1_coeff4', 'filter2_coeff0', 'filter2_coeff1', 'filter2_coeff2', 'filter2_coeff3', 'filter2_coeff4', 'filter3_coeff0', 'filter3_coeff1', 'filter3_coeff2', 'filter3_coeff3', 'filter3_coeff4', 'filter4_coeff0', 'filter4_coeff1', 'filter4_coeff2', 'filter4_coeff3', 'filter4_coeff4', 'filter5_coeff0', 'filter5_coeff1', 'filter5_coeff2', 'filter5_coeff3', 'filter5_coeff4', 'filter6_coeff0', 'filter6_coeff1', 'filter6_coeff2', 'filter6_coeff3', 'filter6_coeff4', 'filter7_coeff0', 'filter7_coeff1', 'filter7_coeff2', 'filter7_coeff3', 'filter7_coeff4', 'filter8_coeff0', 'filter8_coeff1', 'filter8_coeff2', 'filter8_coeff3', 'filter8_coeff4', 'filter9_coeff0', 'filter9_coeff1', 'filter9_coeff2', 'filter9_coeff3', 'filter9_coeff4', 'filter10_coeff0', 'filter10_coeff1', 'filter10_coeff2', 'filter10_coeff3', 'filter10_coeff4', 'filter11_coeff0', 'filter11_coeff1', 'filter11_coeff2', 'filter11_coeff3', 'filter11_coeff4', 'filter12_coeff0', 'filter12_coeff1', 'filter12_coeff2', 'filter12_coeff3', 'filter12_coeff4', 'filter13_coeff0', 'filter13_coeff1', 'filter13_coeff2', 'filter13_coeff3', 'filter13_coeff4', 'filter14_coeff0', 'filter14_coeff1', 'filter14_coeff2', 'filter14_coeff3', 'filter14_coeff4', 'filter15_coeff0', 'filter15_coeff1', 'filter15_coeff2', 'filter15_coeff3', 'filter15_coeff4', 'bypass'])\n"
     ]
    }
   ],
   "source": [
    "import pedalboard\n",
    "\n",
    "vst = pedalboard.load_plugin(\"./Reverberator.vst3\")\n",
    "print(vst.parameters.keys())"
   ]
  },
  {
   "cell_type": "code",
   "execution_count": null,
   "id": "8ad79140",
   "metadata": {},
   "outputs": [],
   "source": []
  },
  {
   "cell_type": "code",
   "execution_count": null,
   "id": "acaaccec",
   "metadata": {},
   "outputs": [],
   "source": []
  }
 ],
 "metadata": {
  "kernelspec": {
   "display_name": "Python 3 (ipykernel)",
   "language": "python",
   "name": "python3"
  },
  "language_info": {
   "codemirror_mode": {
    "name": "ipython",
    "version": 3
   },
   "file_extension": ".py",
   "mimetype": "text/x-python",
   "name": "python",
   "nbconvert_exporter": "python",
   "pygments_lexer": "ipython3",
   "version": "3.9.7"
  }
 },
 "nbformat": 4,
 "nbformat_minor": 5
}
