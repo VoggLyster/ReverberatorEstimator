{
 "cells": [
  {
   "cell_type": "markdown",
   "metadata": {},
   "source": [
    "# Pretraining\n",
    "Pretrains the network for the ReverberatorEstimator notebook with given parameters.\n",
    "These parameters are estimated by listening to the target audio and doing a quick and rough tuning."
   ]
  },
  {
   "cell_type": "code",
   "execution_count": null,
   "metadata": {},
   "outputs": [],
   "source": [
    "import matplotlib.pyplot as plt\n",
    "import IPython\n",
    "import tensorflow as tf\n",
    "print(tf.__version__)\n",
    "import tensorflow.keras as tfk\n",
    "from pedalboard import load_plugin\n",
    "from ReverberatorEstimator import layers, models, config, utils\n",
    "import warnings\n",
    "warnings.filterwarnings('ignore')\n",
    "import time"
   ]
  },
  {
   "cell_type": "code",
   "execution_count": null,
   "metadata": {},
   "outputs": [],
   "source": [
    "k = config.k\n",
    "sample_rate = k['sample_rate']\n",
    "sample_length = k['sample_length']\n",
    "num_epochs = 5000\n",
    "num_processors = k['n_processors']\n",
    "steps_per_epoch = 1\n",
    "batch_size = 1\n",
    "epsilon = k['epsilon']\n",
    "learning_rate = k['learning_rate']\n",
    "dry_audio_path = k['dry_audio_path']\n",
    "wet_audio_path = k['wet_audio_path']\n",
    "vst_path = k['vst_path']\n",
    "time_loss_weight = k['time_loss_weight']\n",
    "spectral_loss_weight = k['spectral_loss_weight']\n",
    "envelope_loss_weight = k['envelope_loss_weight']\n",
    "echo_density_loss_weight = k['echo_density_loss_weight']\n",
    "num_params = k['n_parameters']\n",
    "parameter_map = k['parameter_map']\n",
    "non_trainable_parameters = k['non_trainable_parameters']\n",
    "pretrained_weights = k['pretrained_weights']"
   ]
  },
  {
   "cell_type": "code",
   "execution_count": null,
   "metadata": {},
   "outputs": [],
   "source": [
    "vst = load_plugin(vst_path)"
   ]
  },
  {
   "cell_type": "code",
   "execution_count": null,
   "metadata": {},
   "outputs": [],
   "source": [
    "x_train, y_train = utils.get_dataset(dry_audio_path, wet_audio_path, batch_size, resample=True, old_sample_rate=48000, new_sample_rate=sample_rate)"
   ]
  },
  {
   "cell_type": "code",
   "execution_count": null,
   "metadata": {},
   "outputs": [],
   "source": [
    "target_parameters_list = [0.5, 0.9, 0.9]\n",
    "attenuation_gain_params = [0.9, 0.9, 0.9, 0.85, 0.75, 0.65, 0.50, 0.25, 0.10, 0.10]\n",
    "tonal_gain_params = [0.9, 0.9, 0.9, 0.9, 0.9, 0.75, 0.65, 0.50, 0.50, 0.50]\n",
    "bc_gains = [0.70, 0.70]\n",
    "\n",
    "target_parameters_list = target_parameters_list + attenuation_gain_params + tonal_gain_params\n",
    "for i in range(16):\n",
    "    target_parameters_list = target_parameters_list + bc_gains\n",
    "\n",
    "target_parameters = tf.convert_to_tensor(target_parameters_list, dtype=tf.float32)\n",
    "target_parameters = tf.reshape(target_parameters, [1, num_params])"
   ]
  },
  {
   "cell_type": "code",
   "execution_count": null,
   "metadata": {},
   "outputs": [],
   "source": [
    "model, parameter_model, _ = models.get_models(sample_length, sample_rate, num_params, 1, \n",
    "                                                vst_path, epsilon, parameter_map, non_trainable_parameters)\n",
    "\n",
    "\n",
    "optimizer = tfk.optimizers.Adam(learning_rate=0.001) \n",
    "parameter_model.compile(optimizer=optimizer, loss='mae', run_eagerly=True)"
   ]
  },
  {
   "cell_type": "code",
   "execution_count": null,
   "metadata": {},
   "outputs": [],
   "source": [
    "lr_callback = tf.keras.callbacks.ReduceLROnPlateau(monitor='loss',\n",
    "                              factor=0.2,\n",
    "                              patience=100,\n",
    "                              cooldown=1,\n",
    "                              verbose=1,\n",
    "                              mode='auto',\n",
    "                              min_lr=0.000001)"
   ]
  },
  {
   "cell_type": "code",
   "execution_count": null,
   "metadata": {},
   "outputs": [],
   "source": [
    "start_time = time.time()\n",
    "history = parameter_model.fit(x_train, target_parameters, verbose=1, epochs=num_epochs, batch_size=batch_size,\n",
    "         callbacks=[lr_callback])\n",
    "print(\"Training took %d seconds\" % (time.time() - start_time))"
   ]
  },
  {
   "cell_type": "code",
   "execution_count": null,
   "metadata": {},
   "outputs": [],
   "source": [
    "fig, ax = plt.subplots(nrows=1, ncols=1, figsize=(7,10))\n",
    "ax[0].plot(history.history['loss'])\n",
    "ax[0].set_title('loss')\n",
    "ax[0].set_ylabel('loss')\n",
    "ax[0].set_xlabel('epoch')\n",
    "ax[0].legend(['train', 'test'], loc='upper left')"
   ]
  },
  {
   "cell_type": "code",
   "execution_count": null,
   "metadata": {},
   "outputs": [],
   "source": [
    "parameters = parameter_model(tf.reshape(x_train[0], (1, sample_length)))"
   ]
  },
  {
   "cell_type": "code",
   "execution_count": null,
   "metadata": {},
   "outputs": [],
   "source": [
    "params = parameters.numpy()[0]\n",
    "print(params)"
   ]
  },
  {
   "cell_type": "code",
   "execution_count": null,
   "metadata": {},
   "outputs": [],
   "source": [
    "param_diff = params - target_parameters_list\n",
    "plt.stem(param_diff)\n",
    "plt.ylim([-1, 1])"
   ]
  },
  {
   "cell_type": "code",
   "execution_count": null,
   "metadata": {},
   "outputs": [],
   "source": [
    "parameter_model.save_weights(pretrained_weights)"
   ]
  },
  {
   "cell_type": "code",
   "execution_count": null,
   "metadata": {},
   "outputs": [],
   "source": [
    "for i in range(len(params)):\n",
    "    parameter_idx = parameter_map[i]\n",
    "    parameter_value = params[i]\n",
    "    layers.set_parameter(vst, parameter_idx, parameter_value)\n",
    "output = vst.process(x_train[0], sample_rate)\n",
    "IPython.display.display(IPython.display.Audio(output, rate=sample_rate))\n",
    "plt.plot(output)"
   ]
  }
 ],
 "metadata": {
  "interpreter": {
   "hash": "056699bebc1122ebbf85307ae58ca8080e0ba4dc5d4fa4dba2a499bf6c14ab5e"
  },
  "kernelspec": {
   "display_name": "Python 3.8.0 64-bit",
   "language": "python",
   "name": "python3"
  },
  "language_info": {
   "codemirror_mode": {
    "name": "ipython",
    "version": 3
   },
   "file_extension": ".py",
   "mimetype": "text/x-python",
   "name": "python",
   "nbconvert_exporter": "python",
   "pygments_lexer": "ipython3",
   "version": "3.8.0"
  },
  "orig_nbformat": 4
 },
 "nbformat": 4,
 "nbformat_minor": 2
}
